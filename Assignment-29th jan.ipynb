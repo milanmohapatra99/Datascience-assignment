{
 "cells": [
  {
   "cell_type": "markdown",
   "id": "10f3a55f-dad2-4de5-b780-e530139acaf0",
   "metadata": {},
   "source": [
    "1.Who Developed python programming Language?"
   ]
  },
  {
   "cell_type": "code",
   "execution_count": null,
   "id": "5e097eed-5afb-49c2-bb2b-24415e67673b",
   "metadata": {},
   "outputs": [],
   "source": [
    "Guido van Rossum DEveloped the Python Programming language."
   ]
  },
  {
   "cell_type": "markdown",
   "id": "649f6655-59c5-4503-b1e7-e3df9301ebee",
   "metadata": {},
   "source": [
    "2. Which type of programming does python support?"
   ]
  },
  {
   "cell_type": "code",
   "execution_count": null,
   "id": "d68fb13c-9860-4131-b5fd-3add900f9ee0",
   "metadata": {},
   "outputs": [],
   "source": [
    "Python is an interpreted programming language, supporting object-oriented, structured, and functional programming."
   ]
  },
  {
   "cell_type": "markdown",
   "id": "1eaf59ce-aeea-4c03-a8a7-fe863405e08c",
   "metadata": {},
   "source": [
    "3. Is python case sensitive when dealing with identifiers?"
   ]
  },
  {
   "cell_type": "code",
   "execution_count": null,
   "id": "cb4b503a-121e-40d2-aa64-b5b013ad8416",
   "metadata": {},
   "outputs": [],
   "source": [
    "Yes, Python is a case-sensitive language, i.e., it treats uppercase and lowercase characters differently.it behaves same for identifiers."
   ]
  },
  {
   "cell_type": "markdown",
   "id": "ebd08630-256e-46e4-beb1-4af27e7d7453",
   "metadata": {},
   "source": [
    "4 . What is the correct extension of the python file?"
   ]
  },
  {
   "cell_type": "code",
   "execution_count": null,
   "id": "e455f91e-232e-499f-9f5a-4482592b809b",
   "metadata": {},
   "outputs": [],
   "source": [
    ".py is the correct extension for python file."
   ]
  },
  {
   "cell_type": "markdown",
   "id": "25c979c2-c70b-4475-8385-0056d693e76e",
   "metadata": {},
   "source": [
    "5. Is python code compiled or interpreted?"
   ]
  },
  {
   "cell_type": "code",
   "execution_count": null,
   "id": "432a7f48-6c32-4485-8b5b-da45a3e48746",
   "metadata": {},
   "outputs": [],
   "source": [
    "Python is both compiled as well as an interpreted language, which means when we run a python code, it is first compiled and then interpreted line by line"
   ]
  },
  {
   "cell_type": "markdown",
   "id": "509193bf-d8c5-40ee-b3ed-ddd197ba1fd8",
   "metadata": {},
   "source": [
    "6. Name a few blocks of code used to define in python language?"
   ]
  },
  {
   "cell_type": "code",
   "execution_count": null,
   "id": "feec0f7c-bbfc-431a-a0a9-2b231b13bdbb",
   "metadata": {},
   "outputs": [],
   "source": [
    "Indentation is used to define a block of code in python."
   ]
  },
  {
   "cell_type": "markdown",
   "id": "ad914975-b056-4e42-8d9b-d8d06c325da8",
   "metadata": {},
   "source": [
    "7. State a character used to give single-line comment in python?"
   ]
  },
  {
   "cell_type": "code",
   "execution_count": null,
   "id": "b9d5476b-bdc0-4516-b877-690dd8bf766e",
   "metadata": {},
   "outputs": [],
   "source": [
    "#(Hash) is used to create single-line comment in python"
   ]
  },
  {
   "cell_type": "markdown",
   "id": "cde9dd47-3420-460a-a6a9-dcc23846a24b",
   "metadata": {},
   "source": [
    "8. Mention functions which can help us to find the version of python that we are currently working on ?"
   ]
  },
  {
   "cell_type": "code",
   "execution_count": null,
   "id": "b2d59cf6-ceee-4c22-858e-8d1986a8a746",
   "metadata": {},
   "outputs": [],
   "source": [
    "The function sys. version can help us to find the version of python that we are currently working on."
   ]
  },
  {
   "cell_type": "markdown",
   "id": "d2459c08-5e10-437d-8c80-67bb4eb6d3ce",
   "metadata": {},
   "source": [
    "9. python supports the creation of anonymous function at run time,using a constructor called________."
   ]
  },
  {
   "cell_type": "code",
   "execution_count": null,
   "id": "72f2ec99-a2c7-4efd-aeb3-edd6fa990061",
   "metadata": {},
   "outputs": [],
   "source": [
    "Python supports the creation of anonymous functions at runtime, using a construct called lambda."
   ]
  },
  {
   "cell_type": "markdown",
   "id": "4bc7857e-862d-4099-bcbc-4d0f61d26ae7",
   "metadata": {},
   "source": [
    "10. What does pip stand for python?"
   ]
  },
  {
   "cell_type": "code",
   "execution_count": null,
   "id": "c91b82a4-781a-4e13-9beb-0a79a5459401",
   "metadata": {},
   "outputs": [],
   "source": [
    " pip stands for \"preferred installer program\". "
   ]
  },
  {
   "cell_type": "markdown",
   "id": "481fd1f2-cc30-48a0-8320-5b6bcda1a5c0",
   "metadata": {},
   "source": [
    "11. Mention a few built-in functions in python?"
   ]
  },
  {
   "cell_type": "code",
   "execution_count": null,
   "id": "1b0a67b2-84d3-489c-ae28-c9b2d443145f",
   "metadata": {},
   "outputs": [],
   "source": [
    "print(),len(),input(),sort(),int(),str(),range(),list(),tuple(),etc."
   ]
  },
  {
   "cell_type": "markdown",
   "id": "dc42c1a0-f924-4d90-b20a-bda2f9341e94",
   "metadata": {},
   "source": [
    "12. What is the maximum possible length of an identifier in python?"
   ]
  },
  {
   "cell_type": "code",
   "execution_count": null,
   "id": "bf555d2e-5cfb-47b5-958d-0feaf3390441",
   "metadata": {},
   "outputs": [],
   "source": [
    "identifier can have a maximum length of 79 characters in Python."
   ]
  },
  {
   "cell_type": "markdown",
   "id": "a01cf757-9189-4c60-8d72-a3cc0498140f",
   "metadata": {},
   "source": [
    "13. What are the benefits of using python?"
   ]
  },
  {
   "cell_type": "code",
   "execution_count": null,
   "id": "be92273a-a0a9-4e85-9cc7-738ff25f555a",
   "metadata": {},
   "outputs": [],
   "source": [
    "1- Easy to learn and use\n",
    "2- Extensive libraries\n",
    "3-Portability\n",
    "4-  Wide range of use cases(datascience,machine learning,cloud etc)\n",
    "5- Scientific and mathematical computing."
   ]
  },
  {
   "cell_type": "markdown",
   "id": "8d9c6388-0e7f-434a-93ec-003371681013",
   "metadata": {},
   "source": [
    "14. How many memory managed in python?"
   ]
  },
  {
   "cell_type": "code",
   "execution_count": null,
   "id": "4e538176-4647-4082-897d-8cd669279118",
   "metadata": {},
   "outputs": [],
   "source": [
    "Python has a pymalloc allocator optimized for small objects (smaller or equal to 512 bytes) with a short lifetime. "
   ]
  },
  {
   "cell_type": "markdown",
   "id": "5f91a10f-dd82-4887-be67-98b7995298d8",
   "metadata": {},
   "source": [
    "15. How to install python on windows and set path variables?"
   ]
  },
  {
   "cell_type": "code",
   "execution_count": null,
   "id": "74bec9ef-dca2-4625-8cd7-fe1f5b2cc1fc",
   "metadata": {},
   "outputs": [],
   "source": [
    "The complete path of python.exe can be added by:\n",
    "\n",
    "1-Right-clicking This PC and going to Properties.\n",
    "\n",
    "2-Clicking on the Advanced system settings in the menu on the left.\n",
    "\n",
    "3-Clicking on the Environment Variables button on the bottom right.\n",
    "\n",
    "4-In the System variables section, selecting the Path variable and clicking on Edit. The next screen will show all the directories that are currently a part of the PATH variable.\n",
    "\n",
    "5-Clicking on New and entering Python’s install directory."
   ]
  },
  {
   "cell_type": "markdown",
   "id": "6bf50670-6e94-4b83-a9aa-cba5561d48e6",
   "metadata": {},
   "source": [
    "16. Is indentation required in python?"
   ]
  },
  {
   "cell_type": "code",
   "execution_count": null,
   "id": "947edbb0-b6db-4a0a-8b83-b2e22148e56a",
   "metadata": {},
   "outputs": [],
   "source": [
    "Indentation is mandatory in python to define the blocks of statements."
   ]
  },
  {
   "cell_type": "code",
   "execution_count": null,
   "id": "31eeac81-22ca-4127-998b-ee0b345b8d46",
   "metadata": {},
   "outputs": [],
   "source": []
  }
 ],
 "metadata": {
  "kernelspec": {
   "display_name": "Python 3 (ipykernel)",
   "language": "python",
   "name": "python3"
  },
  "language_info": {
   "codemirror_mode": {
    "name": "ipython",
    "version": 3
   },
   "file_extension": ".py",
   "mimetype": "text/x-python",
   "name": "python",
   "nbconvert_exporter": "python",
   "pygments_lexer": "ipython3",
   "version": "3.10.6"
  }
 },
 "nbformat": 4,
 "nbformat_minor": 5
}
